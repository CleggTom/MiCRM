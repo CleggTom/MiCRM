{
 "cells": [
  {
   "cell_type": "code",
   "execution_count": null,
   "id": "3a38b833-9280-41d8-a73c-f654608ecc6d",
   "metadata": {},
   "outputs": [
    {
     "name": "stderr",
     "output_type": "stream",
     "text": [
      "\u001b[32m\u001b[1m  Activating\u001b[22m\u001b[39m environment at `~/Julia/Packages/MiCRM/Project.toml`\n",
      "┌ Info: Precompiling MiCRM [a39c0ef7-b77e-47b1-a1dd-f967908226eb]\n",
      "└ @ Base loading.jl:1342\n"
     ]
    }
   ],
   "source": [
    "using Pkg\n",
    "Pkg.activate(\".\")\n",
    "\n",
    "using MiCRM, Plots"
   ]
  },
  {
   "cell_type": "code",
   "execution_count": null,
   "id": "d0a9cfea-940a-4560-9361-551f691b07ef",
   "metadata": {},
   "outputs": [],
   "source": [
    "CRProblem(p,N,M,u0, tspan, deriv_funcs; state_vars = [], state_derivs = [])"
   ]
  }
 ],
 "metadata": {
  "kernelspec": {
   "display_name": "julia 1.6.5",
   "language": "julia",
   "name": "julia-1.6"
  },
  "language_info": {
   "file_extension": ".jl",
   "mimetype": "application/julia",
   "name": "julia",
   "version": "1.6.5"
  }
 },
 "nbformat": 4,
 "nbformat_minor": 5
}
